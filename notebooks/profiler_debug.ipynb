{
 "cells": [
  {
   "cell_type": "code",
   "id": "initial_id",
   "metadata": {
    "collapsed": true,
    "ExecuteTime": {
     "end_time": "2025-05-14T13:26:53.520770Z",
     "start_time": "2025-05-14T13:26:53.518018Z"
    }
   },
   "source": [
    "import time\n",
    "\n",
    "import numpy as np\n",
    "\n",
    "from net.activations.relu import ReLU\n",
    "from net.layers.dense import Dense\n",
    "from net.losses.mse import MeanSquaredError\n",
    "from net.models.sequential import Sequential"
   ],
   "outputs": [],
   "execution_count": 2
  },
  {
   "metadata": {
    "ExecuteTime": {
     "end_time": "2025-05-14T13:26:53.535266Z",
     "start_time": "2025-05-14T13:26:53.532763Z"
    }
   },
   "cell_type": "code",
   "source": [
    "np.random.seed(42)\n",
    "\n",
    "X = np.random.randn(10, 3)\n",
    "y = np.random.randn(10, 1)\n",
    "\n",
    "model = Sequential([\n",
    "    Dense(3, 4),\n",
    "    ReLU(),\n",
    "    Dense(4, 1)\n",
    "])\n",
    "\n",
    "loss_fn = MeanSquaredError()"
   ],
   "id": "b2933a55bbdda1c8",
   "outputs": [],
   "execution_count": 3
  },
  {
   "metadata": {
    "ExecuteTime": {
     "end_time": "2025-05-14T13:26:53.545814Z",
     "start_time": "2025-05-14T13:26:53.543486Z"
    }
   },
   "cell_type": "code",
   "source": [
    "start = time.time()\n",
    "out = model.forward(X)\n",
    "end = time.time()\n",
    "print(f\"Forward pass took {end - start:.6f} sec\")\n",
    "\n",
    "print(\"Output shape:\", out.shape)\n",
    "print(\"Output sample:\", out[:2])"
   ],
   "id": "e98c6b3688367a6d",
   "outputs": [
    {
     "name": "stdout",
     "output_type": "stream",
     "text": [
      "Forward pass took 0.000060 sec\n",
      "Output shape: (10, 1)\n",
      "Output sample: [[-0.16489464]\n",
      " [ 0.27744227]]\n"
     ]
    }
   ],
   "execution_count": 4
  },
  {
   "metadata": {
    "ExecuteTime": {
     "end_time": "2025-05-14T13:26:53.554543Z",
     "start_time": "2025-05-14T13:26:53.552645Z"
    }
   },
   "cell_type": "code",
   "source": [
    "loss = loss_fn.forward(out, y)\n",
    "grad_loss = loss_fn.backward()\n",
    "\n",
    "start = time.time()\n",
    "model.backward(grad_loss)\n",
    "end = time.time()\n",
    "print(f\"Backward pass took {end - start:.6f} sec\")"
   ],
   "id": "4125d3d9b3e1446",
   "outputs": [
    {
     "name": "stdout",
     "output_type": "stream",
     "text": [
      "Backward pass took 0.000049 sec\n"
     ]
    }
   ],
   "execution_count": 5
  },
  {
   "metadata": {
    "ExecuteTime": {
     "end_time": "2025-05-14T13:26:53.564641Z",
     "start_time": "2025-05-14T13:26:53.562828Z"
    }
   },
   "cell_type": "code",
   "source": [
    "for i, layer in enumerate(model.layers):\n",
    "    if hasattr(layer, \"dW\"):\n",
    "        print(f\"Layer {i} dW shape: {layer.dW.shape}\")"
   ],
   "id": "9c3caa4accdf18c1",
   "outputs": [
    {
     "name": "stdout",
     "output_type": "stream",
     "text": [
      "Layer 0 dW shape: (3, 4)\n",
      "Layer 2 dW shape: (4, 1)\n"
     ]
    }
   ],
   "execution_count": 6
  }
 ],
 "metadata": {
  "kernelspec": {
   "display_name": "Python 3",
   "language": "python",
   "name": "python3"
  },
  "language_info": {
   "codemirror_mode": {
    "name": "ipython",
    "version": 2
   },
   "file_extension": ".py",
   "mimetype": "text/x-python",
   "name": "python",
   "nbconvert_exporter": "python",
   "pygments_lexer": "ipython2",
   "version": "2.7.6"
  }
 },
 "nbformat": 4,
 "nbformat_minor": 5
}
