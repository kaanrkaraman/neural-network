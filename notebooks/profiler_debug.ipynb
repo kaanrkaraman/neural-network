{
 "cells": [
  {
   "cell_type": "code",
   "id": "initial_id",
   "metadata": {
    "collapsed": true
   },
   "source": [
    "import time\n",
    "\n",
    "import numpy as np\n",
    "\n",
    "from net.activations.relu import ReLU\n",
    "from net.layers.dense import Dense\n",
    "from net.losses.regression.mse import MeanSquaredError\n",
    "from net.models.core.sequential import Sequential"
   ],
   "outputs": [],
   "execution_count": null
  },
  {
   "metadata": {},
   "cell_type": "code",
   "source": [
    "np.random.seed(42)\n",
    "\n",
    "X = np.random.randn(10, 3)\n",
    "y = np.random.randn(10, 1)\n",
    "\n",
    "model = Sequential([\n",
    "    Dense(3, 4),\n",
    "    ReLU(),\n",
    "    Dense(4, 1)\n",
    "])\n",
    "\n",
    "loss_fn = MeanSquaredError()"
   ],
   "id": "b2933a55bbdda1c8",
   "outputs": [],
   "execution_count": null
  },
  {
   "metadata": {},
   "cell_type": "code",
   "source": [
    "start = time.time()\n",
    "out = model.forward(X)\n",
    "end = time.time()\n",
    "print(f\"Forward pass took {end - start:.6f} sec\")\n",
    "\n",
    "print(\"Output shape:\", out.shape)\n",
    "print(\"Output sample:\", out[:2])"
   ],
   "id": "e98c6b3688367a6d",
   "outputs": [],
   "execution_count": null
  },
  {
   "metadata": {},
   "cell_type": "code",
   "source": [
    "loss = loss_fn.forward(out, y)\n",
    "grad_loss = loss_fn.backward()\n",
    "\n",
    "start = time.time()\n",
    "model.backward(grad_loss)\n",
    "end = time.time()\n",
    "print(f\"Backward pass took {end - start:.6f} sec\")"
   ],
   "id": "4125d3d9b3e1446",
   "outputs": [],
   "execution_count": null
  },
  {
   "metadata": {},
   "cell_type": "code",
   "source": [
    "for i, layer in enumerate(model.layers):\n",
    "    if hasattr(layer, \"dW\"):\n",
    "        print(f\"Layer {i} dW shape: {layer.dW.shape}\")"
   ],
   "id": "9c3caa4accdf18c1",
   "outputs": [],
   "execution_count": null
  }
 ],
 "metadata": {
  "kernelspec": {
   "display_name": "Python 3",
   "language": "python",
   "name": "python3"
  },
  "language_info": {
   "codemirror_mode": {
    "name": "ipython",
    "version": 2
   },
   "file_extension": ".py",
   "mimetype": "text/x-python",
   "name": "python",
   "nbconvert_exporter": "python",
   "pygments_lexer": "ipython2",
   "version": "2.7.6"
  }
 },
 "nbformat": 4,
 "nbformat_minor": 5
}
