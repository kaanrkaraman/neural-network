{
 "cells": [
  {
   "cell_type": "code",
   "id": "initial_id",
   "metadata": {
    "collapsed": true,
    "ExecuteTime": {
     "end_time": "2025-05-14T13:21:34.836605Z",
     "start_time": "2025-05-14T13:21:34.833438Z"
    }
   },
   "source": [
    "import numpy as np\n",
    "\n",
    "from net.activations.relu import ReLU\n",
    "from net.layers.dense import Dense\n",
    "from net.losses.mse import MeanSquaredError\n",
    "from net.models.sequential import Sequential\n",
    "from net.utils.metrics import rmse, mae"
   ],
   "outputs": [],
   "execution_count": 166
  },
  {
   "metadata": {
    "ExecuteTime": {
     "end_time": "2025-05-14T13:21:34.849361Z",
     "start_time": "2025-05-14T13:21:34.846296Z"
    }
   },
   "cell_type": "code",
   "source": [
    "# [m^2, bedrooms, age]\n",
    "X = np.array([\n",
    "    [150, 3, 20],\n",
    "    [120, 2, 15],\n",
    "    [180, 4, 30],\n",
    "    [100, 1, 10],\n",
    "    [210, 3, 25]\n",
    "], dtype=np.float32)\n",
    "\n",
    "# prices in $1000s\n",
    "y = np.array([\n",
    "    [300],\n",
    "    [200],\n",
    "    [350],\n",
    "    [180],\n",
    "    [330]\n",
    "], dtype=np.float32)\n",
    "\n",
    "X_mean = X.mean(axis=0)\n",
    "X_std = X.std(axis=0)\n",
    "X_norm = (X - X_mean) / X_std\n",
    "\n",
    "y_mean = y.mean()\n",
    "y_std = y.std()\n",
    "y_norm = (y - y_mean) / y_std"
   ],
   "id": "477df84c9a095079",
   "outputs": [],
   "execution_count": 167
  },
  {
   "metadata": {
    "ExecuteTime": {
     "end_time": "2025-05-14T13:21:34.858888Z",
     "start_time": "2025-05-14T13:21:34.857151Z"
    }
   },
   "cell_type": "code",
   "source": [
    "model = Sequential([\n",
    "    Dense(3, 8),\n",
    "    ReLU(),\n",
    "    Dense(8, 1)\n",
    "])\n",
    "\n",
    "loss_fn = MeanSquaredError()\n",
    "learning_rate = 0.01"
   ],
   "id": "18ba8efe37d61797",
   "outputs": [],
   "execution_count": 168
  },
  {
   "metadata": {
    "ExecuteTime": {
     "end_time": "2025-05-14T13:21:34.887006Z",
     "start_time": "2025-05-14T13:21:34.864799Z"
    }
   },
   "cell_type": "code",
   "source": [
    "for epoch in range(1000):\n",
    "    pred_norm = model.forward(X_norm)\n",
    "    loss = loss_fn.forward(pred_norm, y_norm)\n",
    "    grad = loss_fn.backward()\n",
    "    model.backward(grad)\n",
    "    model.update(learning_rate)\n",
    "\n",
    "    if epoch % 100 == 0:\n",
    "        pred_real = pred_norm * y_std + y_mean\n",
    "        rmse_val = rmse(y, pred_real)\n",
    "        mae_val = mae(y, pred_real)\n",
    "        print(f\"Epoch {epoch}: Loss = {loss:.4f} | RMSE = {rmse_val:.2f} | MAE = {mae_val:.2f}\")"
   ],
   "id": "a6356ea3af49672e",
   "outputs": [
    {
     "name": "stdout",
     "output_type": "stream",
     "text": [
      "Epoch 0: Loss = 1.5483 | RMSE = 85.99 | MAE = 64.46\n",
      "Epoch 100: Loss = 0.0661 | RMSE = 17.76 | MAE = 14.91\n",
      "Epoch 200: Loss = 0.0242 | RMSE = 10.75 | MAE = 8.97\n",
      "Epoch 300: Loss = 0.0134 | RMSE = 8.01 | MAE = 7.00\n",
      "Epoch 400: Loss = 0.0091 | RMSE = 6.58 | MAE = 5.90\n",
      "Epoch 500: Loss = 0.0066 | RMSE = 5.62 | MAE = 5.08\n",
      "Epoch 600: Loss = 0.0050 | RMSE = 4.90 | MAE = 4.42\n",
      "Epoch 700: Loss = 0.0039 | RMSE = 4.33 | MAE = 3.85\n",
      "Epoch 800: Loss = 0.0031 | RMSE = 3.84 | MAE = 3.37\n",
      "Epoch 900: Loss = 0.0024 | RMSE = 3.42 | MAE = 2.95\n"
     ]
    }
   ],
   "execution_count": 169
  },
  {
   "metadata": {
    "ExecuteTime": {
     "end_time": "2025-05-14T13:21:34.896073Z",
     "start_time": "2025-05-14T13:21:34.894163Z"
    }
   },
   "cell_type": "code",
   "source": [
    "pred_norm = model.forward(X_norm)\n",
    "pred_real = pred_norm * y_std + y_mean\n",
    "\n",
    "for i, pred in enumerate(pred_real.flatten()):\n",
    "    print(f\"Predicted = ${pred:.2f}k | Actual = ${y[i, 0]:.2f}k\")"
   ],
   "id": "16eec0e39bb9df3a",
   "outputs": [
    {
     "name": "stdout",
     "output_type": "stream",
     "text": [
      "Predicted = $297.30k | Actual = $300.00k\n",
      "Predicted = $205.45k | Actual = $200.00k\n",
      "Predicted = $351.41k | Actual = $350.00k\n",
      "Predicted = $177.45k | Actual = $180.00k\n",
      "Predicted = $329.16k | Actual = $330.00k\n"
     ]
    }
   ],
   "execution_count": 170
  }
 ],
 "metadata": {
  "kernelspec": {
   "display_name": "Python 3",
   "language": "python",
   "name": "python3"
  },
  "language_info": {
   "codemirror_mode": {
    "name": "ipython",
    "version": 2
   },
   "file_extension": ".py",
   "mimetype": "text/x-python",
   "name": "python",
   "nbconvert_exporter": "python",
   "pygments_lexer": "ipython2",
   "version": "2.7.6"
  }
 },
 "nbformat": 4,
 "nbformat_minor": 5
}
