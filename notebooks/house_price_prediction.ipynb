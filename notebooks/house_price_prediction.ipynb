{
 "cells": [
  {
   "cell_type": "code",
   "id": "initial_id",
   "metadata": {
    "collapsed": true,
    "ExecuteTime": {
     "end_time": "2025-05-14T14:10:14.248178Z",
     "start_time": "2025-05-14T14:10:14.245377Z"
    }
   },
   "source": [
    "import numpy as np\n",
    "\n",
    "from net.activations.relu import ReLU\n",
    "from net.layers.dense import Dense\n",
    "from net.losses.mse import MeanSquaredError\n",
    "from net.models.sequential import Sequential\n",
    "from net.utils.metrics import rmse, mae"
   ],
   "outputs": [],
   "execution_count": 11
  },
  {
   "metadata": {
    "ExecuteTime": {
     "end_time": "2025-05-14T14:10:14.259677Z",
     "start_time": "2025-05-14T14:10:14.256709Z"
    }
   },
   "cell_type": "code",
   "source": [
    "# [m^2, bedrooms, age]\n",
    "X = np.array([\n",
    "    [150, 3, 20],\n",
    "    [120, 2, 15],\n",
    "    [180, 4, 30],\n",
    "    [100, 1, 10],\n",
    "    [210, 3, 25]\n",
    "], dtype=np.float32)\n",
    "\n",
    "# prices in $1000s\n",
    "y = np.array([\n",
    "    [300],\n",
    "    [200],\n",
    "    [350],\n",
    "    [180],\n",
    "    [330]\n",
    "], dtype=np.float32)\n",
    "\n",
    "X_mean = X.mean(axis=0)\n",
    "X_std = X.std(axis=0)\n",
    "X_norm = (X - X_mean) / X_std\n",
    "\n",
    "y_mean = y.mean()\n",
    "y_std = y.std()\n",
    "y_norm = (y - y_mean) / y_std"
   ],
   "id": "477df84c9a095079",
   "outputs": [],
   "execution_count": 12
  },
  {
   "metadata": {
    "ExecuteTime": {
     "end_time": "2025-05-14T14:10:14.276763Z",
     "start_time": "2025-05-14T14:10:14.274621Z"
    }
   },
   "cell_type": "code",
   "source": [
    "model = Sequential([\n",
    "    Dense(3, 8),\n",
    "    ReLU(),\n",
    "    Dense(8, 1)\n",
    "])\n",
    "\n",
    "loss_fn = MeanSquaredError()\n",
    "learning_rate = 0.01"
   ],
   "id": "18ba8efe37d61797",
   "outputs": [],
   "execution_count": 13
  },
  {
   "metadata": {
    "ExecuteTime": {
     "end_time": "2025-05-14T14:10:14.316064Z",
     "start_time": "2025-05-14T14:10:14.292900Z"
    }
   },
   "cell_type": "code",
   "source": [
    "for epoch in range(1000):\n",
    "    pred_norm = model.forward(X_norm)\n",
    "    loss = loss_fn.forward(pred_norm, y_norm)\n",
    "    grad = loss_fn.backward()\n",
    "    model.backward(grad)\n",
    "    model.update(learning_rate)\n",
    "\n",
    "    if epoch % 100 == 0:\n",
    "        pred_real = pred_norm * y_std + y_mean\n",
    "        rmse_val = rmse(y, pred_real)\n",
    "        mae_val = mae(y, pred_real)\n",
    "        print(f\"Epoch {epoch}: Loss = {loss:.4f} | RMSE = {rmse_val:.2f} | MAE = {mae_val:.2f}\")"
   ],
   "id": "a6356ea3af49672e",
   "outputs": [
    {
     "name": "stdout",
     "output_type": "stream",
     "text": [
      "Epoch 0: Loss = 0.4398 | RMSE = 45.83 | MAE = 44.49\n",
      "Epoch 100: Loss = 0.0419 | RMSE = 14.15 | MAE = 11.49\n",
      "Epoch 200: Loss = 0.0231 | RMSE = 10.49 | MAE = 8.44\n",
      "Epoch 300: Loss = 0.0164 | RMSE = 8.86 | MAE = 7.02\n",
      "Epoch 400: Loss = 0.0130 | RMSE = 7.87 | MAE = 6.17\n",
      "Epoch 500: Loss = 0.0108 | RMSE = 7.19 | MAE = 5.65\n",
      "Epoch 600: Loss = 0.0094 | RMSE = 6.70 | MAE = 5.30\n",
      "Epoch 700: Loss = 0.0083 | RMSE = 6.29 | MAE = 4.99\n",
      "Epoch 800: Loss = 0.0073 | RMSE = 5.91 | MAE = 4.70\n",
      "Epoch 900: Loss = 0.0065 | RMSE = 5.56 | MAE = 4.48\n"
     ]
    }
   ],
   "execution_count": 14
  },
  {
   "metadata": {
    "ExecuteTime": {
     "end_time": "2025-05-14T14:10:14.324574Z",
     "start_time": "2025-05-14T14:10:14.322538Z"
    }
   },
   "cell_type": "code",
   "source": [
    "pred_norm = model.forward(X_norm)\n",
    "pred_real = pred_norm * y_std + y_mean\n",
    "\n",
    "for i, pred in enumerate(pred_real.flatten()):\n",
    "    print(f\"Predicted = ${pred:.2f}k | Actual = ${y[i, 0]:.2f}k\")"
   ],
   "id": "16eec0e39bb9df3a",
   "outputs": [
    {
     "name": "stdout",
     "output_type": "stream",
     "text": [
      "Predicted = $294.65k | Actual = $300.00k\n",
      "Predicted = $209.09k | Actual = $200.00k\n",
      "Predicted = $351.87k | Actual = $350.00k\n",
      "Predicted = $175.32k | Actual = $180.00k\n",
      "Predicted = $330.21k | Actual = $330.00k\n"
     ]
    }
   ],
   "execution_count": 15
  }
 ],
 "metadata": {
  "kernelspec": {
   "display_name": "Python 3",
   "language": "python",
   "name": "python3"
  },
  "language_info": {
   "codemirror_mode": {
    "name": "ipython",
    "version": 2
   },
   "file_extension": ".py",
   "mimetype": "text/x-python",
   "name": "python",
   "nbconvert_exporter": "python",
   "pygments_lexer": "ipython2",
   "version": "2.7.6"
  }
 },
 "nbformat": 4,
 "nbformat_minor": 5
}
