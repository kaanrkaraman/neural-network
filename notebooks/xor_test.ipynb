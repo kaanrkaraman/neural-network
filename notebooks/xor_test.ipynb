{
 "cells": [
  {
   "metadata": {},
   "cell_type": "markdown",
   "source": "## XOR Problem",
   "id": "9e018cab61f3168b"
  },
  {
   "metadata": {
    "ExecuteTime": {
     "end_time": "2025-05-14T12:56:51.016806Z",
     "start_time": "2025-05-14T12:56:50.962434Z"
    }
   },
   "cell_type": "code",
   "source": [
    "import numpy as np\n",
    "\n",
    "from net.layers.flatten import Flatten\n",
    "from net.layers.dense import Dense\n",
    "from net.activations.relu import ReLU\n",
    "from net.activations.sigmoid import Sigmoid\n",
    "from net.models.sequential import Sequential\n",
    "from net.losses.binary_cross_entropy import BinaryCrossEntropy"
   ],
   "id": "fb7033332c3b50d6",
   "outputs": [],
   "execution_count": 1
  },
  {
   "metadata": {},
   "cell_type": "markdown",
   "source": "### XOR Dataset",
   "id": "c19a10bb71b73da4"
  },
  {
   "metadata": {
    "ExecuteTime": {
     "end_time": "2025-05-14T12:56:51.117987Z",
     "start_time": "2025-05-14T12:56:51.116040Z"
    }
   },
   "cell_type": "code",
   "source": [
    "X = np.array([\n",
    "    [0, 0],\n",
    "    [0, 1],\n",
    "    [1, 0],\n",
    "    [1, 1]\n",
    "])\n",
    "\n",
    "y = np.array([\n",
    "    [0],\n",
    "    [1],\n",
    "    [1],\n",
    "    [0]\n",
    "])"
   ],
   "id": "7b6ec434541ed193",
   "outputs": [],
   "execution_count": 2
  },
  {
   "metadata": {},
   "cell_type": "markdown",
   "source": "### Model",
   "id": "29657d723e852ac8"
  },
  {
   "metadata": {
    "ExecuteTime": {
     "end_time": "2025-05-14T12:56:51.148813Z",
     "start_time": "2025-05-14T12:56:51.124957Z"
    }
   },
   "cell_type": "code",
   "source": [
    "model = Sequential([\n",
    "    Flatten(),\n",
    "    Dense(2, 8),\n",
    "    ReLU(),\n",
    "    Dense(8, 1),\n",
    "    Sigmoid()\n",
    "])\n",
    "\n",
    "loss_fn = BinaryCrossEntropy()\n",
    "lr = 0.1"
   ],
   "id": "65d75f7ac56728a0",
   "outputs": [],
   "execution_count": 3
  },
  {
   "metadata": {},
   "cell_type": "markdown",
   "source": "### Training",
   "id": "979e647b61e741dc"
  },
  {
   "metadata": {
    "ExecuteTime": {
     "end_time": "2025-05-14T12:56:51.185732Z",
     "start_time": "2025-05-14T12:56:51.155006Z"
    }
   },
   "cell_type": "code",
   "source": [
    "for epoch in range(1000):\n",
    "    output = model.forward(X)\n",
    "    loss = loss_fn.forward(output, y)\n",
    "    grad_loss = loss_fn.backward()\n",
    "    model.backward(grad_loss)\n",
    "    model.update(lr)\n",
    "\n",
    "    if epoch % 100 == 0:\n",
    "        print(f\"Epoch {epoch}: loss = {loss:.4f}\")"
   ],
   "id": "99d25438c010b378",
   "outputs": [
    {
     "name": "stdout",
     "output_type": "stream",
     "text": [
      "Epoch 0: loss = 0.7161\n",
      "Epoch 100: loss = 0.6317\n",
      "Epoch 200: loss = 0.4854\n",
      "Epoch 300: loss = 0.3343\n",
      "Epoch 400: loss = 0.2127\n",
      "Epoch 500: loss = 0.1252\n",
      "Epoch 600: loss = 0.0788\n",
      "Epoch 700: loss = 0.0535\n",
      "Epoch 800: loss = 0.0387\n",
      "Epoch 900: loss = 0.0295\n"
     ]
    }
   ],
   "execution_count": 4
  },
  {
   "metadata": {},
   "cell_type": "markdown",
   "source": "### Evaluation",
   "id": "c6bc4318b5e320fe"
  },
  {
   "metadata": {
    "ExecuteTime": {
     "end_time": "2025-05-14T12:56:51.258754Z",
     "start_time": "2025-05-14T12:56:51.255323Z"
    }
   },
   "cell_type": "code",
   "source": [
    "preds = model.predict(X)\n",
    "print(\"Predictions:\", preds.astype(int).flatten())\n",
    "print(\"Targets:    \", y.flatten())"
   ],
   "id": "50d7dc3ff7d1c23f",
   "outputs": [
    {
     "name": "stdout",
     "output_type": "stream",
     "text": [
      "Predictions: [0 1 1 0]\n",
      "Targets:     [0 1 1 0]\n"
     ]
    }
   ],
   "execution_count": 5
  }
 ],
 "metadata": {
  "kernelspec": {
   "display_name": "Python 3",
   "language": "python",
   "name": "python3"
  },
  "language_info": {
   "codemirror_mode": {
    "name": "ipython",
    "version": 2
   },
   "file_extension": ".py",
   "mimetype": "text/x-python",
   "name": "python",
   "nbconvert_exporter": "python",
   "pygments_lexer": "ipython2",
   "version": "2.7.6"
  }
 },
 "nbformat": 4,
 "nbformat_minor": 5
}
