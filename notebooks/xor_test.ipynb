{
 "cells": [
  {
   "metadata": {},
   "cell_type": "markdown",
   "source": "## XOR Problem",
   "id": "9e018cab61f3168b"
  },
  {
   "metadata": {},
   "cell_type": "code",
   "source": [
    "import numpy as np\n",
    "\n",
    "from net.activations.relu import ReLU\n",
    "from net.activations.sigmoid import Sigmoid\n",
    "from net.layers.dense import Dense\n",
    "from net.layers.flatten import Flatten\n",
    "from net.losses.classification.binary_cross_entropy import BinaryCrossEntropy\n",
    "from net.models.core.sequential import Sequential"
   ],
   "id": "fb7033332c3b50d6",
   "outputs": [],
   "execution_count": null
  },
  {
   "metadata": {},
   "cell_type": "markdown",
   "source": "### XOR Dataset",
   "id": "c19a10bb71b73da4"
  },
  {
   "metadata": {},
   "cell_type": "code",
   "source": [
    "X = np.array([\n",
    "    [0, 0],\n",
    "    [0, 1],\n",
    "    [1, 0],\n",
    "    [1, 1]\n",
    "])\n",
    "\n",
    "y = np.array([\n",
    "    [0],\n",
    "    [1],\n",
    "    [1],\n",
    "    [0]\n",
    "])"
   ],
   "id": "7b6ec434541ed193",
   "outputs": [],
   "execution_count": null
  },
  {
   "metadata": {},
   "cell_type": "markdown",
   "source": "### Model",
   "id": "29657d723e852ac8"
  },
  {
   "metadata": {},
   "cell_type": "code",
   "source": [
    "model = Sequential([\n",
    "    Flatten(),\n",
    "    Dense(2, 8),\n",
    "    ReLU(),\n",
    "    Dense(8, 1),\n",
    "    Sigmoid()\n",
    "])\n",
    "\n",
    "loss_fn = BinaryCrossEntropy()\n",
    "lr = 0.1"
   ],
   "id": "65d75f7ac56728a0",
   "outputs": [],
   "execution_count": null
  },
  {
   "metadata": {},
   "cell_type": "markdown",
   "source": "### Training",
   "id": "979e647b61e741dc"
  },
  {
   "metadata": {},
   "cell_type": "code",
   "source": [
    "for epoch in range(1000):\n",
    "    output = model.forward(X)\n",
    "    loss = loss_fn.forward(output, y)\n",
    "    grad_loss = loss_fn.backward()\n",
    "    model.backward(grad_loss)\n",
    "    model.update(lr)\n",
    "\n",
    "    if epoch % 100 == 0:\n",
    "        print(f\"Epoch {epoch}: loss = {loss:.4f}\")"
   ],
   "id": "99d25438c010b378",
   "outputs": [],
   "execution_count": null
  },
  {
   "metadata": {},
   "cell_type": "markdown",
   "source": "### Evaluation",
   "id": "c6bc4318b5e320fe"
  },
  {
   "metadata": {},
   "cell_type": "code",
   "source": [
    "preds = model.predict(X)\n",
    "print(\"Predictions:\", preds.astype(int).flatten())\n",
    "print(\"Targets:    \", y.flatten())"
   ],
   "id": "50d7dc3ff7d1c23f",
   "outputs": [],
   "execution_count": null
  }
 ],
 "metadata": {
  "kernelspec": {
   "display_name": "Python 3",
   "language": "python",
   "name": "python3"
  },
  "language_info": {
   "codemirror_mode": {
    "name": "ipython",
    "version": 2
   },
   "file_extension": ".py",
   "mimetype": "text/x-python",
   "name": "python",
   "nbconvert_exporter": "python",
   "pygments_lexer": "ipython2",
   "version": "2.7.6"
  }
 },
 "nbformat": 4,
 "nbformat_minor": 5
}
